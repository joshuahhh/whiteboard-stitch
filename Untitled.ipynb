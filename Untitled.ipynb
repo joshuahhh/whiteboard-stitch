{
 "cells": [
  {
   "cell_type": "code",
   "execution_count": 1,
   "metadata": {
    "collapsed": true
   },
   "outputs": [],
   "source": [
    "import numpy\n",
    "import multiprocessing\n",
    "import time"
   ]
  },
  {
   "cell_type": "code",
   "execution_count": 7,
   "metadata": {
    "collapsed": true
   },
   "outputs": [],
   "source": [
    "pool = multiprocessing.dummy.Pool()"
   ]
  },
  {
   "cell_type": "code",
   "execution_count": 11,
   "metadata": {
    "collapsed": false
   },
   "outputs": [
    {
     "name": "stdout",
     "output_type": "stream",
     "text": [
      "Control: No powers\n",
      "59985997.0712 0.139564037323\n",
      "Single process\n",
      "15981208.9044 3.03516697884\n",
      "Several processes\n",
      "15981208.9044 1.16520905495\n"
     ]
    }
   ],
   "source": [
    "def test(n):\n",
    "    x = numpy.random.rand(n)\n",
    "    \n",
    "    print 'Control: No powers'\n",
    "    acc = numpy.zeros(n)\n",
    "    now = time.time()\n",
    "    for i in range(30):\n",
    "        acc += x\n",
    "    s = acc.sum()\n",
    "    print s, time.time() - now\n",
    "    \n",
    "    print 'Single process'\n",
    "    acc = numpy.zeros(n)\n",
    "    now = time.time()\n",
    "    for i in range(30):\n",
    "        acc += x ** i\n",
    "    s = acc.sum()\n",
    "    print s, time.time() - now\n",
    "    \n",
    "    print 'Several processes'\n",
    "    acc = numpy.zeros(n)\n",
    "    now = time.time()\n",
    "    def pow(i):\n",
    "        return x ** i\n",
    "    exps = pool.map(pow, range(30))\n",
    "    for exp in exps:\n",
    "        acc += exp\n",
    "    s = acc.sum()\n",
    "    print s, time.time() - now\n",
    "\n",
    "test(4000000)"
   ]
  },
  {
   "cell_type": "code",
   "execution_count": null,
   "metadata": {
    "collapsed": false
   },
   "outputs": [],
   "source": [
    "def test(x):\n",
    "    return x * x\n",
    "\n",
    "p = Process(target=test, args=(3,))"
   ]
  },
  {
   "cell_type": "code",
   "execution_count": null,
   "metadata": {
    "collapsed": true
   },
   "outputs": [],
   "source": [
    "p.start()"
   ]
  },
  {
   "cell_type": "code",
   "execution_count": null,
   "metadata": {
    "collapsed": true
   },
   "outputs": [],
   "source": [
    "p."
   ]
  }
 ],
 "metadata": {
  "kernelspec": {
   "display_name": "Python 2",
   "language": "python",
   "name": "python2"
  },
  "language_info": {
   "codemirror_mode": {
    "name": "ipython",
    "version": 2
   },
   "file_extension": ".py",
   "mimetype": "text/x-python",
   "name": "python",
   "nbconvert_exporter": "python",
   "pygments_lexer": "ipython2",
   "version": "2.7.11"
  }
 },
 "nbformat": 4,
 "nbformat_minor": 0
}
