{
 "cells": [
  {
   "cell_type": "code",
   "execution_count": null,
   "metadata": {
    "collapsed": true
   },
   "outputs": [],
   "source": [
    "import stitching\n",
    "import spimage\n",
    "import cPickle as pickle\n",
    "\n",
    "job = pickle.load(open('conc_1.job', 'wb'))\n",
    "\n",
    "job.detail_transfer_stitch_pt_2(canvas_scale=2, detail_transfer_radius=33, edge_blend_radius=5)\n",
    "\n",
    "job.detail_transfer_stitch_output().save('conc.png')"
   ]
  }
 ],
 "metadata": {
  "kernelspec": {
   "display_name": "Python 2",
   "language": "python",
   "name": "python2"
  },
  "language_info": {
   "codemirror_mode": {
    "name": "ipython",
    "version": 2
   },
   "file_extension": ".py",
   "mimetype": "text/x-python",
   "name": "python",
   "nbconvert_exporter": "python",
   "pygments_lexer": "ipython2",
   "version": "2.7.11"
  }
 },
 "nbformat": 4,
 "nbformat_minor": 0
}
