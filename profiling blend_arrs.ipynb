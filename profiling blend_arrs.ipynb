{
 "cells": [
  {
   "cell_type": "code",
   "execution_count": 13,
   "metadata": {
    "collapsed": true
   },
   "outputs": [],
   "source": []
  },
  {
   "cell_type": "code",
   "execution_count": 21,
   "metadata": {
    "collapsed": false
   },
   "outputs": [],
   "source": [
    "import numpy as np\n",
    "from numba import jit\n",
    "from profile import profile\n",
    "\n",
    "\n",
    "@jit(nopython=True)\n",
    "def sum_arrs(arrs):\n",
    "    base = np.zeros(arrs[0].shape)\n",
    "    for arr in arrs:\n",
    "        base += arr\n",
    "    return base\n",
    "\n",
    "\n",
    "w = 1000\n",
    "h = 1000\n",
    "c = 3\n",
    "n = 20\n",
    "\n",
    "arrs = tuple(np.random.rand(h, w, c) for i in range(n))\n",
    "masks = tuple(np.random.rand(h, w) for i in range(n))\n",
    "\n",
    "@jit\n",
    "def blend_arrs_1(arrs, masks):\n",
    "    mask_sum = sum_arrs(masks)\n",
    "\n",
    "    base = np.zeros(arrs[0].shape)\n",
    "    for arr, mask in zip(arrs, masks):\n",
    "        base += arr * np.true_divide(mask, mask_sum)[:, :, np.newaxis]\n",
    "    return base\n",
    "\n",
    "@jit(nopython=True)\n",
    "def blend_arrs_2(arrs, masks):\n",
    "    mask_sum = sum_arrs(masks)\n",
    "\n",
    "    base = np.zeros(arrs[0].shape)\n",
    "    for arr, mask in zip(arrs, masks):\n",
    "        base += arr.transpose() * np.true_divide(mask, mask_sum).transpose()\n",
    "    return base.transpose()\n",
    "\n",
    "@jit(nopython=True)\n",
    "def _blend_arrs_3(arrs, masks):\n",
    "    mask_sum = sum_arrs(masks)\n",
    "\n",
    "    base = np.zeros(arrs[0].shape)\n",
    "    for arr, mask in zip(arrs, masks):\n",
    "        base += arr * np.true_divide(mask, mask_sum)\n",
    "    return base\n",
    "\n",
    "def blend_arrs_3(arrs, masks):\n",
    "    return _blend_arrs_3(arrs, tuple(mask[:, :, np.newaxis] for mask in masks))\n",
    "\n",
    "@jit(nopython=True)\n",
    "def blend_arrs_4(arrs, masks):\n",
    "    mask_sum = sum_arrs(masks)\n",
    "\n",
    "    base = np.zeros(arrs[0].shape)\n",
    "    for arr, mask in zip(arrs, masks):\n",
    "        base += arr * np.true_divide(mask, mask_sum).reshape(mask.shape[0], mask.shape[1], 1)\n",
    "    return base"
   ]
  },
  {
   "cell_type": "code",
   "execution_count": 22,
   "metadata": {
    "collapsed": false
   },
   "outputs": [
    {
     "name": "stdout",
     "output_type": "stream",
     "text": [
      "1.31654691696 seconds\n",
      "5.85723519325 seconds\n",
      "4.49706101418 seconds\n",
      "4.28708291054 seconds\n"
     ]
    }
   ],
   "source": [
    "with profile():\n",
    "    blend_arrs_1(arrs, masks)\n",
    "    \n",
    "with profile():\n",
    "    blend_arrs_2(arrs, masks)\n",
    "\n",
    "with profile():\n",
    "    blend_arrs_3(arrs, masks)\n",
    "\n",
    "with profile():\n",
    "    blend_arrs_4(arrs, masks)"
   ]
  },
  {
   "cell_type": "code",
   "execution_count": null,
   "metadata": {
    "collapsed": true
   },
   "outputs": [],
   "source": []
  }
 ],
 "metadata": {
  "kernelspec": {
   "display_name": "Python 2",
   "language": "python",
   "name": "python2"
  },
  "language_info": {
   "codemirror_mode": {
    "name": "ipython",
    "version": 2
   },
   "file_extension": ".py",
   "mimetype": "text/x-python",
   "name": "python",
   "nbconvert_exporter": "python",
   "pygments_lexer": "ipython2",
   "version": "2.7.11"
  }
 },
 "nbformat": 4,
 "nbformat_minor": 0
}
